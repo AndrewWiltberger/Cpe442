{
 "cells": [
  {
   "cell_type": "code",
   "execution_count": 1,
   "id": "c73103d8",
   "metadata": {},
   "outputs": [
    {
     "name": "stderr",
     "output_type": "stream",
     "text": [
      "WARNING: An illegal reflective access operation has occurred\n",
      "WARNING: Illegal reflective access by org.apache.spark.unsafe.Platform (file:/usr/local/spark-3.2.0-bin-hadoop3.2/jars/spark-unsafe_2.12-3.2.0.jar) to constructor java.nio.DirectByteBuffer(long,int)\n",
      "WARNING: Please consider reporting this to the maintainers of org.apache.spark.unsafe.Platform\n",
      "WARNING: Use --illegal-access=warn to enable warnings of further illegal reflective access operations\n",
      "WARNING: All illegal access operations will be denied in a future release\n",
      "Using Spark's default log4j profile: org/apache/spark/log4j-defaults.properties\n",
      "Setting default log level to \"WARN\".\n",
      "To adjust logging level use sc.setLogLevel(newLevel). For SparkR, use setLogLevel(newLevel).\n",
      "21/12/05 19:35:40 WARN NativeCodeLoader: Unable to load native-hadoop library for your platform... using builtin-java classes where applicable\n",
      "21/12/05 19:35:41 WARN Utils: Service 'SparkUI' could not bind on port 4040. Attempting port 4041.\n",
      "21/12/05 19:35:41 WARN Utils: Service 'SparkUI' could not bind on port 4041. Attempting port 4042.\n"
     ]
    }
   ],
   "source": [
    "from pyspark.ml import Pipeline\n",
    "from pyspark.ml.classification import LogisticRegression\n",
    "from pyspark.ml.evaluation import BinaryClassificationEvaluator\n",
    "from pyspark.ml.feature import HashingTF, Tokenizer\n",
    "from pyspark.ml.tuning import CrossValidator, ParamGridBuilder\n",
    "from pyspark import SparkContext\n",
    "from pyspark.sql import SparkSession\n",
    "\n",
    "spark = SparkSession.builder.appName(\"RThp\").enableHiveSupport().getOrCreate()\n",
    "\n",
    "df = spark.read.load('/container-data/winequality-white.csv',\n",
    "                     format=\"csv\", sep=\";\", inferSchema=\"true\", header=\"true\")"
   ]
  },
  {
   "cell_type": "code",
   "execution_count": 2,
   "id": "23a6ab5d",
   "metadata": {},
   "outputs": [],
   "source": [
    "\n",
    "#transform into [label, [features]] format\n",
    "from pyspark.ml.feature import VectorAssembler\n",
    "feature_columns = df.columns[:-1]\n",
    "assembler = VectorAssembler(inputCols=feature_columns, outputCol=\"features\")\n",
    "df = assembler.transform(df)"
   ]
  },
  {
   "cell_type": "code",
   "execution_count": 3,
   "id": "e5c6ca8c",
   "metadata": {},
   "outputs": [
    {
     "name": "stdout",
     "output_type": "stream",
     "text": [
      "+--------------------+-----+\n",
      "|            features|label|\n",
      "+--------------------+-----+\n",
      "|[7.0,0.27,0.36,20...|    6|\n",
      "|[6.3,0.3,0.34,1.6...|    6|\n",
      "|[8.1,0.28,0.4,6.9...|    6|\n",
      "|[7.2,0.23,0.32,8....|    6|\n",
      "|[7.2,0.23,0.32,8....|    6|\n",
      "|[8.1,0.28,0.4,6.9...|    6|\n",
      "|[6.2,0.32,0.16,7....|    6|\n",
      "|[7.0,0.27,0.36,20...|    6|\n",
      "|[6.3,0.3,0.34,1.6...|    6|\n",
      "|[8.1,0.22,0.43,1....|    6|\n",
      "|[8.1,0.27,0.41,1....|    5|\n",
      "|[8.6,0.23,0.4,4.2...|    5|\n",
      "|[7.9,0.18,0.37,1....|    5|\n",
      "|[6.6,0.16,0.4,1.5...|    7|\n",
      "|[8.3,0.42,0.62,19...|    5|\n",
      "|[6.6,0.17,0.38,1....|    7|\n",
      "|[6.3,0.48,0.04,1....|    6|\n",
      "|[6.2,0.66,0.48,1....|    8|\n",
      "|[7.4,0.34,0.42,1....|    6|\n",
      "|[6.5,0.31,0.14,7....|    5|\n",
      "+--------------------+-----+\n",
      "only showing top 20 rows\n",
      "\n"
     ]
    }
   ],
   "source": [
    "from pyspark.sql.functions import col,row_number\n",
    "\n",
    "df_format = df.select(\"features\", \"quality\")\n",
    "df_format = df_format.withColumnRenamed(\"quality\", \"label\")\n",
    "df_format.show()\n",
    "\n",
    "training , test = df_format.randomSplit([0.8, 0.2], seed = 2018)"
   ]
  },
  {
   "cell_type": "code",
   "execution_count": 50,
   "id": "2c1edeb9",
   "metadata": {},
   "outputs": [],
   "source": [
    "#seach for the best hyperpara \n",
    "from pyspark.ml.evaluation import MulticlassClassificationEvaluator\n",
    "from pyspark.ml import Pipeline\n",
    "from pyspark.ml.classification import RandomForestClassifier\n",
    "from pyspark.ml.tuning import CrossValidator, ParamGridBuilder\n",
    "\n",
    "\n",
    "rf = RandomForestClassifier(labelCol=\"label\", featuresCol=\"features\", numTrees=10)\n",
    "#pipeline = Pipeline(stages=[rf])\n",
    "paramGrid = ParamGridBuilder().addGrid(rf.numTrees, [10, 15, 20, 25, 30, 35, 40]).build()\n",
    "\n",
    "crossval = CrossValidator(estimator=rf,\n",
    "                          estimatorParamMaps=paramGrid,\n",
    "                          evaluator=MulticlassClassificationEvaluator(),\n",
    "                          numFolds=4) \n",
    "\n",
    "cvModel = crossval.fit(training)\n"
   ]
  },
  {
   "cell_type": "code",
   "execution_count": 54,
   "id": "4ab32cde",
   "metadata": {},
   "outputs": [
    {
     "name": "stdout",
     "output_type": "stream",
     "text": [
      "Best Param (numTrees):  10\n"
     ]
    }
   ],
   "source": [
    "\n",
    "#extract the best parameters and save the model \n",
    "bestModel = cvModel.bestModel\n",
    "print ('Best Param (numTrees): ', bestModel.getNumTrees )\n",
    "cvModel.write().overwrite().save(\"RfModel\")"
   ]
  },
  {
   "cell_type": "code",
   "execution_count": 55,
   "id": "85953f42",
   "metadata": {},
   "outputs": [
    {
     "name": "stdout",
     "output_type": "stream",
     "text": [
      "+--------------------+-----+--------------------+--------------------+----------+\n",
      "|            features|label|       rawPrediction|         probability|prediction|\n",
      "+--------------------+-----+--------------------+--------------------+----------+\n",
      "|[3.8,0.31,0.02,11...|    6|[0.0,0.0,0.0,0.03...|[0.0,0.0,0.0,0.00...|       6.0|\n",
      "+--------------------+-----+--------------------+--------------------+----------+\n",
      "only showing top 1 row\n",
      "\n",
      "+--------------------+-----+\n",
      "|            features|label|\n",
      "+--------------------+-----+\n",
      "|[3.8,0.31,0.02,11...|    6|\n",
      "+--------------------+-----+\n",
      "only showing top 1 row\n",
      "\n"
     ]
    }
   ],
   "source": [
    "#test the tunned model \n",
    "from pyspark.ml.tuning import CrossValidatorModel\n",
    "\n",
    "loadedModel = CrossValidatorModel.load(\"RfModel\")\n",
    "loadedModel = loadedModel.bestModel\n",
    "predictions = loadedModel.transform(test)\n",
    "predictions.show(1)\n",
    "\n",
    "trainingSummary = predictions.summary\n",
    "test.show(1)"
   ]
  },
  {
   "cell_type": "code",
   "execution_count": 59,
   "id": "5e2fe72e",
   "metadata": {},
   "outputs": [
    {
     "name": "stdout",
     "output_type": "stream",
     "text": [
      "+----------+-----+\n",
      "|prediction|label|\n",
      "+----------+-----+\n",
      "|       6.0|  6.0|\n",
      "+----------+-----+\n",
      "only showing top 1 row\n",
      "\n"
     ]
    }
   ],
   "source": [
    "from pyspark.mllib.util import MLUtils\n",
    "from pyspark.mllib.evaluation import MulticlassMetrics\n",
    "from pyspark.sql.types import DoubleType\n",
    "\n",
    "predictions_format = predictions.select(\"prediction\", \"label\")\n",
    "predictions_format = predictions_format.withColumn(\"label\", predictions_format[\"label\"].cast(\"double\"))\n",
    "predictions_format.show(1)"
   ]
  },
  {
   "cell_type": "code",
   "execution_count": 60,
   "id": "7b3a3d60",
   "metadata": {},
   "outputs": [
    {
     "name": "stdout",
     "output_type": "stream",
     "text": [
      "(6.0, 6.0)\n",
      "(5.0, 5.0)\n",
      "(7.0, 7.0)\n",
      "(6.0, 5.0)\n",
      "(6.0, 7.0)\n"
     ]
    }
   ],
   "source": [
    "rdd = predictions_format.rdd.map(lambda x: (x[0], x[1]))\n",
    "\n",
    "for element in rdd.take(5):\n",
    "    print(element)"
   ]
  },
  {
   "cell_type": "code",
   "execution_count": 63,
   "id": "92c4e690",
   "metadata": {},
   "outputs": [
    {
     "name": "stdout",
     "output_type": "stream",
     "text": [
      "fMeasure:  0.0\n",
      "fMeasure:  0.583011583011583\n",
      "fMeasure:  0.6475485661424606\n",
      "fMeasure:  0.3020408163265307\n",
      "fMeasure:  0.0\n"
     ]
    }
   ],
   "source": [
    "metrics = MulticlassMetrics(rdd)\n",
    "\n",
    "for x in range(1, 10, 1):\n",
    "    try:\n",
    "        print('Lable: ', x)\n",
    "        print('fMeasure: ',  metrics.fMeasure(float(x),1.0))\n",
    "    except:\n",
    "        print('fMeasure: 0.00')"
   ]
  }
 ],
 "metadata": {
  "kernelspec": {
   "display_name": "Python 3 (ipykernel)",
   "language": "python",
   "name": "python3"
  },
  "language_info": {
   "codemirror_mode": {
    "name": "ipython",
    "version": 3
   },
   "file_extension": ".py",
   "mimetype": "text/x-python",
   "name": "python",
   "nbconvert_exporter": "python",
   "pygments_lexer": "ipython3",
   "version": "3.9.7"
  }
 },
 "nbformat": 4,
 "nbformat_minor": 5
}
