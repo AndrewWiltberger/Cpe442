{
 "cells": [
  {
   "cell_type": "code",
   "execution_count": 1,
   "id": "c975552b",
   "metadata": {},
   "outputs": [
    {
     "name": "stderr",
     "output_type": "stream",
     "text": [
      "WARNING: An illegal reflective access operation has occurred\n",
      "WARNING: Illegal reflective access by org.apache.spark.unsafe.Platform (file:/usr/local/spark-3.2.0-bin-hadoop3.2/jars/spark-unsafe_2.12-3.2.0.jar) to constructor java.nio.DirectByteBuffer(long,int)\n",
      "WARNING: Please consider reporting this to the maintainers of org.apache.spark.unsafe.Platform\n",
      "WARNING: Use --illegal-access=warn to enable warnings of further illegal reflective access operations\n",
      "WARNING: All illegal access operations will be denied in a future release\n",
      "Using Spark's default log4j profile: org/apache/spark/log4j-defaults.properties\n",
      "Setting default log level to \"WARN\".\n",
      "To adjust logging level use sc.setLogLevel(newLevel). For SparkR, use setLogLevel(newLevel).\n",
      "21/12/07 09:36:13 WARN NativeCodeLoader: Unable to load native-hadoop library for your platform... using builtin-java classes where applicable\n"
     ]
    }
   ],
   "source": [
    "from pyspark.ml import Pipeline\n",
    "from pyspark.ml.classification import LogisticRegression\n",
    "from pyspark.ml.evaluation import BinaryClassificationEvaluator\n",
    "from pyspark.ml.feature import HashingTF, Tokenizer\n",
    "from pyspark.ml.tuning import CrossValidator, ParamGridBuilder\n",
    "from pyspark import SparkContext\n",
    "from pyspark.sql import SparkSession\n",
    "\n",
    "spark = SparkSession.builder.appName(\"lrhp\").enableHiveSupport().getOrCreate()\n",
    "\n",
    "df = spark.read.load('/container-data/winequality-white.csv',\n",
    "                     format=\"csv\", sep=\";\", inferSchema=\"true\", header=\"true\")"
   ]
  },
  {
   "cell_type": "code",
   "execution_count": 2,
   "id": "914e4466",
   "metadata": {},
   "outputs": [],
   "source": [
    "\n",
    "#transform into [label, [features]] format\n",
    "from pyspark.ml.feature import VectorAssembler\n",
    "feature_columns = df.columns[:-1]\n",
    "assembler = VectorAssembler(inputCols=feature_columns, outputCol=\"features\")\n",
    "df = assembler.transform(df)"
   ]
  },
  {
   "cell_type": "code",
   "execution_count": 3,
   "id": "a0717e54",
   "metadata": {},
   "outputs": [
    {
     "name": "stdout",
     "output_type": "stream",
     "text": [
      "+--------------------+-----+\n",
      "|            features|label|\n",
      "+--------------------+-----+\n",
      "|[7.0,0.27,0.36,20...|    6|\n",
      "|[6.3,0.3,0.34,1.6...|    6|\n",
      "|[8.1,0.28,0.4,6.9...|    6|\n",
      "|[7.2,0.23,0.32,8....|    6|\n",
      "|[7.2,0.23,0.32,8....|    6|\n",
      "|[8.1,0.28,0.4,6.9...|    6|\n",
      "|[6.2,0.32,0.16,7....|    6|\n",
      "|[7.0,0.27,0.36,20...|    6|\n",
      "|[6.3,0.3,0.34,1.6...|    6|\n",
      "|[8.1,0.22,0.43,1....|    6|\n",
      "|[8.1,0.27,0.41,1....|    5|\n",
      "|[8.6,0.23,0.4,4.2...|    5|\n",
      "|[7.9,0.18,0.37,1....|    5|\n",
      "|[6.6,0.16,0.4,1.5...|    7|\n",
      "|[8.3,0.42,0.62,19...|    5|\n",
      "|[6.6,0.17,0.38,1....|    7|\n",
      "|[6.3,0.48,0.04,1....|    6|\n",
      "|[6.2,0.66,0.48,1....|    8|\n",
      "|[7.4,0.34,0.42,1....|    6|\n",
      "|[6.5,0.31,0.14,7....|    5|\n",
      "+--------------------+-----+\n",
      "only showing top 20 rows\n",
      "\n"
     ]
    }
   ],
   "source": [
    "from pyspark.sql.functions import col,row_number\n",
    "\n",
    "df_format = df.select(\"features\", \"quality\")\n",
    "df_format = df_format.withColumnRenamed(\"quality\", \"label\")\n",
    "df_format.show()\n",
    "\n",
    "training , test = df_format.randomSplit([0.8, 0.2], seed = 2018)"
   ]
  },
  {
   "cell_type": "code",
   "execution_count": 6,
   "id": "b71c8106",
   "metadata": {},
   "outputs": [
    {
     "name": "stderr",
     "output_type": "stream",
     "text": [
      "21/12/07 09:42:00 WARN CacheManager: Asked to cache already cached data.\n",
      "21/12/07 09:42:00 WARN CacheManager: Asked to cache already cached data.\n"
     ]
    },
    {
     "data": {
      "text/plain": [
       "5"
      ]
     },
     "execution_count": 6,
     "metadata": {},
     "output_type": "execute_result"
    }
   ],
   "source": [
    "#seach for the best hyperpara \n",
    "from pyspark.ml.evaluation import MulticlassClassificationEvaluator\n",
    "\n",
    "lr = LogisticRegression()\n",
    "grid = ParamGridBuilder().addGrid(lr.maxIter, [1, 10, 50]) \\\n",
    "                                .addGrid(lr.regParam, [0.01, 0.05, 0.75, 1.0]) \\\n",
    "                                .addGrid(lr.elasticNetParam, [1]) \\\n",
    "                                .build()\n",
    "evaluator = MulticlassClassificationEvaluator()\n",
    "cv = CrossValidator(estimator=lr, estimatorParamMaps=grid, evaluator=evaluator,\n",
    "    parallelism=5)\n",
    "cv.setNumFolds(5)\n",
    "cvModel = cv.fit(training)\n",
    "cvModel.getNumFolds()"
   ]
  },
  {
   "cell_type": "code",
   "execution_count": 7,
   "id": "2e2ea5db",
   "metadata": {},
   "outputs": [
    {
     "name": "stdout",
     "output_type": "stream",
     "text": [
      "Best Param (regParam):  0.01\n",
      "Best Param (MaxIter):  50\n",
      "Best Param (elasticNetParam):  1.0\n"
     ]
    },
    {
     "name": "stderr",
     "output_type": "stream",
     "text": [
      "                                                                                \r"
     ]
    }
   ],
   "source": [
    "\n",
    "#extract the best parameters \n",
    "bestModel = cvModel.bestModel\n",
    "print ('Best Param (regParam): ', bestModel._java_obj.getRegParam())\n",
    "print ('Best Param (MaxIter): ', bestModel._java_obj.getMaxIter())\n",
    "print ('Best Param (elasticNetParam): ', bestModel._java_obj.getElasticNetParam())\n",
    "cvModel.write().overwrite().save(\"LrModel\")"
   ]
  },
  {
   "cell_type": "code",
   "execution_count": null,
   "id": "9c3eee02",
   "metadata": {},
   "outputs": [],
   "source": [
    "from pyspark.ml.tuning import CrossValidatorModel\n",
    "\n",
    "#test the tunned model \n",
    "loadedModel = CrossValidatorModel.load(\"LrModel\")\n",
    "loadedModel = loadedModel.bestModel\n",
    "predictions = loadedModel.transform(test)\n",
    "predictions.show(1)\n",
    "trainingSummary = predictions.summary\n",
    "test.show(1)"
   ]
  },
  {
   "cell_type": "code",
   "execution_count": null,
   "id": "661bf0f3",
   "metadata": {},
   "outputs": [],
   "source": [
    "#get root mean squared error \n",
    "from pyspark.ml.evaluation import RegressionEvaluator\n",
    "\n",
    "dataset = predictions.select('label', 'prediction')\n",
    "evaluator = RegressionEvaluator()\n",
    "evaluator.setPredictionCol(\"prediction\")\n",
    "evaluator.evaluate(dataset, {evaluator.metricName: \"rmse\"})"
   ]
  }
 ],
 "metadata": {
  "kernelspec": {
   "display_name": "Python 3 (ipykernel)",
   "language": "python",
   "name": "python3"
  },
  "language_info": {
   "codemirror_mode": {
    "name": "ipython",
    "version": 3
   },
   "file_extension": ".py",
   "mimetype": "text/x-python",
   "name": "python",
   "nbconvert_exporter": "python",
   "pygments_lexer": "ipython3",
   "version": "3.9.7"
  }
 },
 "nbformat": 4,
 "nbformat_minor": 5
}
